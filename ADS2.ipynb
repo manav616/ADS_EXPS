{
  "nbformat": 4,
  "nbformat_minor": 0,
  "metadata": {
    "colab": {
      "provenance": [],
      "include_colab_link": true
    },
    "kernelspec": {
      "name": "python3",
      "display_name": "Python 3"
    },
    "language_info": {
      "name": "python"
    }
  },
  "cells": [
    {
      "cell_type": "markdown",
      "metadata": {
        "id": "view-in-github",
        "colab_type": "text"
      },
      "source": [
        "<a href=\"https://colab.research.google.com/github/manav616/ADS_EXPS/blob/main/ADS2.ipynb\" target=\"_parent\"><img src=\"https://colab.research.google.com/assets/colab-badge.svg\" alt=\"Open In Colab\"/></a>"
      ]
    },
    {
      "cell_type": "markdown",
      "source": [
        "\n",
        "\n",
        "**Importing Libraries **\n",
        "\n"
      ],
      "metadata": {
        "id": "QMqb4NeqzV1f"
      }
    },
    {
      "cell_type": "code",
      "execution_count": null,
      "metadata": {
        "id": "rtygBfk2sbdO"
      },
      "outputs": [],
      "source": [
        "import pandas as pd\n",
        "import numpy as np\n",
        "import matplotlib.pyplot as plt\n",
        "import seaborn as sns\n",
        "import pandas as pd\n"
      ]
    },
    {
      "cell_type": "code",
      "source": [
        "df = pd.read_csv('FastFoodNutritionMenuV2.csv')\n",
        "df"
      ],
      "metadata": {
        "colab": {
          "base_uri": "https://localhost:8080/",
          "height": 842
        },
        "id": "ozwbvt25vZ-v",
        "outputId": "fae31258-1b40-45d1-9524-2d226b09d370"
      },
      "execution_count": null,
      "outputs": [
        {
          "output_type": "execute_result",
          "data": {
            "text/plain": [
              "         Company                                               Item Calories  \\\n",
              "0     McDonald’s                                          Hamburger   250.00   \n",
              "1     McDonald’s                                       Cheeseburger   300.00   \n",
              "2     McDonald’s                                Double Cheeseburger   440.00   \n",
              "3     McDonald’s                                           McDouble   390.00   \n",
              "4     McDonald’s                       Quarter Pounder® with Cheese   510.00   \n",
              "...          ...                                                ...      ...   \n",
              "1143   Pizza Hut  Hand Tossed Slices Ultimate Cheese Lover’s® Me...   230.00   \n",
              "1144   Pizza Hut  Hand Tossed Slices Ultimate Cheese Lover’s® Large   310.00   \n",
              "1145   Pizza Hut           Hand Tossed Slices Veggie Lover’s® Small   120.00   \n",
              "1146   Pizza Hut          Hand Tossed Slices Veggie Lover’s® Medium   200.00   \n",
              "1147   Pizza Hut           Hand Tossed Slices Veggie Lover’s® Large   260.00   \n",
              "\n",
              "     Calories from\\nFat Total Fat\\n(g) Saturated Fat\\n(g) Trans Fat\\n(g)  \\\n",
              "0                 80.00           9.00               3.50           0.50   \n",
              "1                110.00          12.00               6.00           0.50   \n",
              "2                210.00          23.00              11.00           1.50   \n",
              "3                170.00          19.00               8.00           1.00   \n",
              "4                230.00          26.00              12.00           1.50   \n",
              "...                 ...            ...                ...            ...   \n",
              "1143                NaN          10.00               4.50           0.00   \n",
              "1144                NaN          13.00               6.00           0.00   \n",
              "1145                NaN           4.00               1.50           0.00   \n",
              "1146                NaN           6.00               2.50           0.00   \n",
              "1147                NaN           9.00               4.00           0.00   \n",
              "\n",
              "     Cholesterol\\n(mg) Sodium \\n(mg) Carbs\\n(g) Fiber\\n(g) Sugars\\n(g)  \\\n",
              "0                25.00        520.00      31.00       2.00        6.00   \n",
              "1                40.00        750.00      33.00       2.00        6.00   \n",
              "2                80.00       1150.00      34.00       2.00        7.00   \n",
              "3                65.00        920.00      33.00       2.00        7.00   \n",
              "4                90.00       1190.00      40.00       3.00        9.00   \n",
              "...                ...           ...        ...        ...         ...   \n",
              "1143             25.00        390.00      25.00       2.00        1.00   \n",
              "1144             35.00        540.00      33.00       2.00        1.00   \n",
              "1145             10.00        230.00      17.00       1.00        1.00   \n",
              "1146             15.00        370.00      27.00       2.00        2.00   \n",
              "1147             20.00        510.00      36.00       3.00        3.00   \n",
              "\n",
              "     Protein\\n(g) Weight Watchers\\nPnts  \n",
              "0           12.00                247.50  \n",
              "1           15.00                297.00  \n",
              "2           25.00                433.00  \n",
              "3           22.00                383.00  \n",
              "4           29.00                502.00  \n",
              "...           ...                   ...  \n",
              "1143        11.00                   NaN  \n",
              "1144        15.00                   NaN  \n",
              "1145         5.00                   NaN  \n",
              "1146         8.00                   NaN  \n",
              "1147        11.00                   NaN  \n",
              "\n",
              "[1148 rows x 14 columns]"
            ],
            "text/html": [
              "\n",
              "  <div id=\"df-6976a8d5-2999-4a62-a3b5-f85679724c68\" class=\"colab-df-container\">\n",
              "    <div>\n",
              "<style scoped>\n",
              "    .dataframe tbody tr th:only-of-type {\n",
              "        vertical-align: middle;\n",
              "    }\n",
              "\n",
              "    .dataframe tbody tr th {\n",
              "        vertical-align: top;\n",
              "    }\n",
              "\n",
              "    .dataframe thead th {\n",
              "        text-align: right;\n",
              "    }\n",
              "</style>\n",
              "<table border=\"1\" class=\"dataframe\">\n",
              "  <thead>\n",
              "    <tr style=\"text-align: right;\">\n",
              "      <th></th>\n",
              "      <th>Company</th>\n",
              "      <th>Item</th>\n",
              "      <th>Calories</th>\n",
              "      <th>Calories from\\nFat</th>\n",
              "      <th>Total Fat\\n(g)</th>\n",
              "      <th>Saturated Fat\\n(g)</th>\n",
              "      <th>Trans Fat\\n(g)</th>\n",
              "      <th>Cholesterol\\n(mg)</th>\n",
              "      <th>Sodium \\n(mg)</th>\n",
              "      <th>Carbs\\n(g)</th>\n",
              "      <th>Fiber\\n(g)</th>\n",
              "      <th>Sugars\\n(g)</th>\n",
              "      <th>Protein\\n(g)</th>\n",
              "      <th>Weight Watchers\\nPnts</th>\n",
              "    </tr>\n",
              "  </thead>\n",
              "  <tbody>\n",
              "    <tr>\n",
              "      <th>0</th>\n",
              "      <td>McDonald’s</td>\n",
              "      <td>Hamburger</td>\n",
              "      <td>250.00</td>\n",
              "      <td>80.00</td>\n",
              "      <td>9.00</td>\n",
              "      <td>3.50</td>\n",
              "      <td>0.50</td>\n",
              "      <td>25.00</td>\n",
              "      <td>520.00</td>\n",
              "      <td>31.00</td>\n",
              "      <td>2.00</td>\n",
              "      <td>6.00</td>\n",
              "      <td>12.00</td>\n",
              "      <td>247.50</td>\n",
              "    </tr>\n",
              "    <tr>\n",
              "      <th>1</th>\n",
              "      <td>McDonald’s</td>\n",
              "      <td>Cheeseburger</td>\n",
              "      <td>300.00</td>\n",
              "      <td>110.00</td>\n",
              "      <td>12.00</td>\n",
              "      <td>6.00</td>\n",
              "      <td>0.50</td>\n",
              "      <td>40.00</td>\n",
              "      <td>750.00</td>\n",
              "      <td>33.00</td>\n",
              "      <td>2.00</td>\n",
              "      <td>6.00</td>\n",
              "      <td>15.00</td>\n",
              "      <td>297.00</td>\n",
              "    </tr>\n",
              "    <tr>\n",
              "      <th>2</th>\n",
              "      <td>McDonald’s</td>\n",
              "      <td>Double Cheeseburger</td>\n",
              "      <td>440.00</td>\n",
              "      <td>210.00</td>\n",
              "      <td>23.00</td>\n",
              "      <td>11.00</td>\n",
              "      <td>1.50</td>\n",
              "      <td>80.00</td>\n",
              "      <td>1150.00</td>\n",
              "      <td>34.00</td>\n",
              "      <td>2.00</td>\n",
              "      <td>7.00</td>\n",
              "      <td>25.00</td>\n",
              "      <td>433.00</td>\n",
              "    </tr>\n",
              "    <tr>\n",
              "      <th>3</th>\n",
              "      <td>McDonald’s</td>\n",
              "      <td>McDouble</td>\n",
              "      <td>390.00</td>\n",
              "      <td>170.00</td>\n",
              "      <td>19.00</td>\n",
              "      <td>8.00</td>\n",
              "      <td>1.00</td>\n",
              "      <td>65.00</td>\n",
              "      <td>920.00</td>\n",
              "      <td>33.00</td>\n",
              "      <td>2.00</td>\n",
              "      <td>7.00</td>\n",
              "      <td>22.00</td>\n",
              "      <td>383.00</td>\n",
              "    </tr>\n",
              "    <tr>\n",
              "      <th>4</th>\n",
              "      <td>McDonald’s</td>\n",
              "      <td>Quarter Pounder® with Cheese</td>\n",
              "      <td>510.00</td>\n",
              "      <td>230.00</td>\n",
              "      <td>26.00</td>\n",
              "      <td>12.00</td>\n",
              "      <td>1.50</td>\n",
              "      <td>90.00</td>\n",
              "      <td>1190.00</td>\n",
              "      <td>40.00</td>\n",
              "      <td>3.00</td>\n",
              "      <td>9.00</td>\n",
              "      <td>29.00</td>\n",
              "      <td>502.00</td>\n",
              "    </tr>\n",
              "    <tr>\n",
              "      <th>...</th>\n",
              "      <td>...</td>\n",
              "      <td>...</td>\n",
              "      <td>...</td>\n",
              "      <td>...</td>\n",
              "      <td>...</td>\n",
              "      <td>...</td>\n",
              "      <td>...</td>\n",
              "      <td>...</td>\n",
              "      <td>...</td>\n",
              "      <td>...</td>\n",
              "      <td>...</td>\n",
              "      <td>...</td>\n",
              "      <td>...</td>\n",
              "      <td>...</td>\n",
              "    </tr>\n",
              "    <tr>\n",
              "      <th>1143</th>\n",
              "      <td>Pizza Hut</td>\n",
              "      <td>Hand Tossed Slices Ultimate Cheese Lover’s® Me...</td>\n",
              "      <td>230.00</td>\n",
              "      <td>NaN</td>\n",
              "      <td>10.00</td>\n",
              "      <td>4.50</td>\n",
              "      <td>0.00</td>\n",
              "      <td>25.00</td>\n",
              "      <td>390.00</td>\n",
              "      <td>25.00</td>\n",
              "      <td>2.00</td>\n",
              "      <td>1.00</td>\n",
              "      <td>11.00</td>\n",
              "      <td>NaN</td>\n",
              "    </tr>\n",
              "    <tr>\n",
              "      <th>1144</th>\n",
              "      <td>Pizza Hut</td>\n",
              "      <td>Hand Tossed Slices Ultimate Cheese Lover’s® Large</td>\n",
              "      <td>310.00</td>\n",
              "      <td>NaN</td>\n",
              "      <td>13.00</td>\n",
              "      <td>6.00</td>\n",
              "      <td>0.00</td>\n",
              "      <td>35.00</td>\n",
              "      <td>540.00</td>\n",
              "      <td>33.00</td>\n",
              "      <td>2.00</td>\n",
              "      <td>1.00</td>\n",
              "      <td>15.00</td>\n",
              "      <td>NaN</td>\n",
              "    </tr>\n",
              "    <tr>\n",
              "      <th>1145</th>\n",
              "      <td>Pizza Hut</td>\n",
              "      <td>Hand Tossed Slices Veggie Lover’s® Small</td>\n",
              "      <td>120.00</td>\n",
              "      <td>NaN</td>\n",
              "      <td>4.00</td>\n",
              "      <td>1.50</td>\n",
              "      <td>0.00</td>\n",
              "      <td>10.00</td>\n",
              "      <td>230.00</td>\n",
              "      <td>17.00</td>\n",
              "      <td>1.00</td>\n",
              "      <td>1.00</td>\n",
              "      <td>5.00</td>\n",
              "      <td>NaN</td>\n",
              "    </tr>\n",
              "    <tr>\n",
              "      <th>1146</th>\n",
              "      <td>Pizza Hut</td>\n",
              "      <td>Hand Tossed Slices Veggie Lover’s® Medium</td>\n",
              "      <td>200.00</td>\n",
              "      <td>NaN</td>\n",
              "      <td>6.00</td>\n",
              "      <td>2.50</td>\n",
              "      <td>0.00</td>\n",
              "      <td>15.00</td>\n",
              "      <td>370.00</td>\n",
              "      <td>27.00</td>\n",
              "      <td>2.00</td>\n",
              "      <td>2.00</td>\n",
              "      <td>8.00</td>\n",
              "      <td>NaN</td>\n",
              "    </tr>\n",
              "    <tr>\n",
              "      <th>1147</th>\n",
              "      <td>Pizza Hut</td>\n",
              "      <td>Hand Tossed Slices Veggie Lover’s® Large</td>\n",
              "      <td>260.00</td>\n",
              "      <td>NaN</td>\n",
              "      <td>9.00</td>\n",
              "      <td>4.00</td>\n",
              "      <td>0.00</td>\n",
              "      <td>20.00</td>\n",
              "      <td>510.00</td>\n",
              "      <td>36.00</td>\n",
              "      <td>3.00</td>\n",
              "      <td>3.00</td>\n",
              "      <td>11.00</td>\n",
              "      <td>NaN</td>\n",
              "    </tr>\n",
              "  </tbody>\n",
              "</table>\n",
              "<p>1148 rows × 14 columns</p>\n",
              "</div>\n",
              "    <div class=\"colab-df-buttons\">\n",
              "\n",
              "  <div class=\"colab-df-container\">\n",
              "    <button class=\"colab-df-convert\" onclick=\"convertToInteractive('df-6976a8d5-2999-4a62-a3b5-f85679724c68')\"\n",
              "            title=\"Convert this dataframe to an interactive table.\"\n",
              "            style=\"display:none;\">\n",
              "\n",
              "  <svg xmlns=\"http://www.w3.org/2000/svg\" height=\"24px\" viewBox=\"0 -960 960 960\">\n",
              "    <path d=\"M120-120v-720h720v720H120Zm60-500h600v-160H180v160Zm220 220h160v-160H400v160Zm0 220h160v-160H400v160ZM180-400h160v-160H180v160Zm440 0h160v-160H620v160ZM180-180h160v-160H180v160Zm440 0h160v-160H620v160Z\"/>\n",
              "  </svg>\n",
              "    </button>\n",
              "\n",
              "  <style>\n",
              "    .colab-df-container {\n",
              "      display:flex;\n",
              "      gap: 12px;\n",
              "    }\n",
              "\n",
              "    .colab-df-convert {\n",
              "      background-color: #E8F0FE;\n",
              "      border: none;\n",
              "      border-radius: 50%;\n",
              "      cursor: pointer;\n",
              "      display: none;\n",
              "      fill: #1967D2;\n",
              "      height: 32px;\n",
              "      padding: 0 0 0 0;\n",
              "      width: 32px;\n",
              "    }\n",
              "\n",
              "    .colab-df-convert:hover {\n",
              "      background-color: #E2EBFA;\n",
              "      box-shadow: 0px 1px 2px rgba(60, 64, 67, 0.3), 0px 1px 3px 1px rgba(60, 64, 67, 0.15);\n",
              "      fill: #174EA6;\n",
              "    }\n",
              "\n",
              "    .colab-df-buttons div {\n",
              "      margin-bottom: 4px;\n",
              "    }\n",
              "\n",
              "    [theme=dark] .colab-df-convert {\n",
              "      background-color: #3B4455;\n",
              "      fill: #D2E3FC;\n",
              "    }\n",
              "\n",
              "    [theme=dark] .colab-df-convert:hover {\n",
              "      background-color: #434B5C;\n",
              "      box-shadow: 0px 1px 3px 1px rgba(0, 0, 0, 0.15);\n",
              "      filter: drop-shadow(0px 1px 2px rgba(0, 0, 0, 0.3));\n",
              "      fill: #FFFFFF;\n",
              "    }\n",
              "  </style>\n",
              "\n",
              "    <script>\n",
              "      const buttonEl =\n",
              "        document.querySelector('#df-6976a8d5-2999-4a62-a3b5-f85679724c68 button.colab-df-convert');\n",
              "      buttonEl.style.display =\n",
              "        google.colab.kernel.accessAllowed ? 'block' : 'none';\n",
              "\n",
              "      async function convertToInteractive(key) {\n",
              "        const element = document.querySelector('#df-6976a8d5-2999-4a62-a3b5-f85679724c68');\n",
              "        const dataTable =\n",
              "          await google.colab.kernel.invokeFunction('convertToInteractive',\n",
              "                                                    [key], {});\n",
              "        if (!dataTable) return;\n",
              "\n",
              "        const docLinkHtml = 'Like what you see? Visit the ' +\n",
              "          '<a target=\"_blank\" href=https://colab.research.google.com/notebooks/data_table.ipynb>data table notebook</a>'\n",
              "          + ' to learn more about interactive tables.';\n",
              "        element.innerHTML = '';\n",
              "        dataTable['output_type'] = 'display_data';\n",
              "        await google.colab.output.renderOutput(dataTable, element);\n",
              "        const docLink = document.createElement('div');\n",
              "        docLink.innerHTML = docLinkHtml;\n",
              "        element.appendChild(docLink);\n",
              "      }\n",
              "    </script>\n",
              "  </div>\n",
              "\n",
              "\n",
              "<div id=\"df-28884a1e-ea11-43e2-8e09-38f7e4ea3384\">\n",
              "  <button class=\"colab-df-quickchart\" onclick=\"quickchart('df-28884a1e-ea11-43e2-8e09-38f7e4ea3384')\"\n",
              "            title=\"Suggest charts\"\n",
              "            style=\"display:none;\">\n",
              "\n",
              "<svg xmlns=\"http://www.w3.org/2000/svg\" height=\"24px\"viewBox=\"0 0 24 24\"\n",
              "     width=\"24px\">\n",
              "    <g>\n",
              "        <path d=\"M19 3H5c-1.1 0-2 .9-2 2v14c0 1.1.9 2 2 2h14c1.1 0 2-.9 2-2V5c0-1.1-.9-2-2-2zM9 17H7v-7h2v7zm4 0h-2V7h2v10zm4 0h-2v-4h2v4z\"/>\n",
              "    </g>\n",
              "</svg>\n",
              "  </button>\n",
              "\n",
              "<style>\n",
              "  .colab-df-quickchart {\n",
              "      --bg-color: #E8F0FE;\n",
              "      --fill-color: #1967D2;\n",
              "      --hover-bg-color: #E2EBFA;\n",
              "      --hover-fill-color: #174EA6;\n",
              "      --disabled-fill-color: #AAA;\n",
              "      --disabled-bg-color: #DDD;\n",
              "  }\n",
              "\n",
              "  [theme=dark] .colab-df-quickchart {\n",
              "      --bg-color: #3B4455;\n",
              "      --fill-color: #D2E3FC;\n",
              "      --hover-bg-color: #434B5C;\n",
              "      --hover-fill-color: #FFFFFF;\n",
              "      --disabled-bg-color: #3B4455;\n",
              "      --disabled-fill-color: #666;\n",
              "  }\n",
              "\n",
              "  .colab-df-quickchart {\n",
              "    background-color: var(--bg-color);\n",
              "    border: none;\n",
              "    border-radius: 50%;\n",
              "    cursor: pointer;\n",
              "    display: none;\n",
              "    fill: var(--fill-color);\n",
              "    height: 32px;\n",
              "    padding: 0;\n",
              "    width: 32px;\n",
              "  }\n",
              "\n",
              "  .colab-df-quickchart:hover {\n",
              "    background-color: var(--hover-bg-color);\n",
              "    box-shadow: 0 1px 2px rgba(60, 64, 67, 0.3), 0 1px 3px 1px rgba(60, 64, 67, 0.15);\n",
              "    fill: var(--button-hover-fill-color);\n",
              "  }\n",
              "\n",
              "  .colab-df-quickchart-complete:disabled,\n",
              "  .colab-df-quickchart-complete:disabled:hover {\n",
              "    background-color: var(--disabled-bg-color);\n",
              "    fill: var(--disabled-fill-color);\n",
              "    box-shadow: none;\n",
              "  }\n",
              "\n",
              "  .colab-df-spinner {\n",
              "    border: 2px solid var(--fill-color);\n",
              "    border-color: transparent;\n",
              "    border-bottom-color: var(--fill-color);\n",
              "    animation:\n",
              "      spin 1s steps(1) infinite;\n",
              "  }\n",
              "\n",
              "  @keyframes spin {\n",
              "    0% {\n",
              "      border-color: transparent;\n",
              "      border-bottom-color: var(--fill-color);\n",
              "      border-left-color: var(--fill-color);\n",
              "    }\n",
              "    20% {\n",
              "      border-color: transparent;\n",
              "      border-left-color: var(--fill-color);\n",
              "      border-top-color: var(--fill-color);\n",
              "    }\n",
              "    30% {\n",
              "      border-color: transparent;\n",
              "      border-left-color: var(--fill-color);\n",
              "      border-top-color: var(--fill-color);\n",
              "      border-right-color: var(--fill-color);\n",
              "    }\n",
              "    40% {\n",
              "      border-color: transparent;\n",
              "      border-right-color: var(--fill-color);\n",
              "      border-top-color: var(--fill-color);\n",
              "    }\n",
              "    60% {\n",
              "      border-color: transparent;\n",
              "      border-right-color: var(--fill-color);\n",
              "    }\n",
              "    80% {\n",
              "      border-color: transparent;\n",
              "      border-right-color: var(--fill-color);\n",
              "      border-bottom-color: var(--fill-color);\n",
              "    }\n",
              "    90% {\n",
              "      border-color: transparent;\n",
              "      border-bottom-color: var(--fill-color);\n",
              "    }\n",
              "  }\n",
              "</style>\n",
              "\n",
              "  <script>\n",
              "    async function quickchart(key) {\n",
              "      const quickchartButtonEl =\n",
              "        document.querySelector('#' + key + ' button');\n",
              "      quickchartButtonEl.disabled = true;  // To prevent multiple clicks.\n",
              "      quickchartButtonEl.classList.add('colab-df-spinner');\n",
              "      try {\n",
              "        const charts = await google.colab.kernel.invokeFunction(\n",
              "            'suggestCharts', [key], {});\n",
              "      } catch (error) {\n",
              "        console.error('Error during call to suggestCharts:', error);\n",
              "      }\n",
              "      quickchartButtonEl.classList.remove('colab-df-spinner');\n",
              "      quickchartButtonEl.classList.add('colab-df-quickchart-complete');\n",
              "    }\n",
              "    (() => {\n",
              "      let quickchartButtonEl =\n",
              "        document.querySelector('#df-28884a1e-ea11-43e2-8e09-38f7e4ea3384 button');\n",
              "      quickchartButtonEl.style.display =\n",
              "        google.colab.kernel.accessAllowed ? 'block' : 'none';\n",
              "    })();\n",
              "  </script>\n",
              "</div>\n",
              "\n",
              "  <div id=\"id_9a8c2de6-e06f-4672-b2ac-25bdbe0f8fee\">\n",
              "    <style>\n",
              "      .colab-df-generate {\n",
              "        background-color: #E8F0FE;\n",
              "        border: none;\n",
              "        border-radius: 50%;\n",
              "        cursor: pointer;\n",
              "        display: none;\n",
              "        fill: #1967D2;\n",
              "        height: 32px;\n",
              "        padding: 0 0 0 0;\n",
              "        width: 32px;\n",
              "      }\n",
              "\n",
              "      .colab-df-generate:hover {\n",
              "        background-color: #E2EBFA;\n",
              "        box-shadow: 0px 1px 2px rgba(60, 64, 67, 0.3), 0px 1px 3px 1px rgba(60, 64, 67, 0.15);\n",
              "        fill: #174EA6;\n",
              "      }\n",
              "\n",
              "      [theme=dark] .colab-df-generate {\n",
              "        background-color: #3B4455;\n",
              "        fill: #D2E3FC;\n",
              "      }\n",
              "\n",
              "      [theme=dark] .colab-df-generate:hover {\n",
              "        background-color: #434B5C;\n",
              "        box-shadow: 0px 1px 3px 1px rgba(0, 0, 0, 0.15);\n",
              "        filter: drop-shadow(0px 1px 2px rgba(0, 0, 0, 0.3));\n",
              "        fill: #FFFFFF;\n",
              "      }\n",
              "    </style>\n",
              "    <button class=\"colab-df-generate\" onclick=\"generateWithVariable('df')\"\n",
              "            title=\"Generate code using this dataframe.\"\n",
              "            style=\"display:none;\">\n",
              "\n",
              "  <svg xmlns=\"http://www.w3.org/2000/svg\" height=\"24px\"viewBox=\"0 0 24 24\"\n",
              "       width=\"24px\">\n",
              "    <path d=\"M7,19H8.4L18.45,9,17,7.55,7,17.6ZM5,21V16.75L18.45,3.32a2,2,0,0,1,2.83,0l1.4,1.43a1.91,1.91,0,0,1,.58,1.4,1.91,1.91,0,0,1-.58,1.4L9.25,21ZM18.45,9,17,7.55Zm-12,3A5.31,5.31,0,0,0,4.9,8.1,5.31,5.31,0,0,0,1,6.5,5.31,5.31,0,0,0,4.9,4.9,5.31,5.31,0,0,0,6.5,1,5.31,5.31,0,0,0,8.1,4.9,5.31,5.31,0,0,0,12,6.5,5.46,5.46,0,0,0,6.5,12Z\"/>\n",
              "  </svg>\n",
              "    </button>\n",
              "    <script>\n",
              "      (() => {\n",
              "      const buttonEl =\n",
              "        document.querySelector('#id_9a8c2de6-e06f-4672-b2ac-25bdbe0f8fee button.colab-df-generate');\n",
              "      buttonEl.style.display =\n",
              "        google.colab.kernel.accessAllowed ? 'block' : 'none';\n",
              "\n",
              "      buttonEl.onclick = () => {\n",
              "        google.colab.notebook.generateWithVariable('df');\n",
              "      }\n",
              "      })();\n",
              "    </script>\n",
              "  </div>\n",
              "\n",
              "    </div>\n",
              "  </div>\n"
            ],
            "application/vnd.google.colaboratory.intrinsic+json": {
              "type": "dataframe",
              "variable_name": "df",
              "summary": "{\n  \"name\": \"df\",\n  \"rows\": 1148,\n  \"fields\": [\n    {\n      \"column\": \"Company\",\n      \"properties\": {\n        \"dtype\": \"category\",\n        \"num_unique_values\": 6,\n        \"samples\": [\n          \"McDonald\\u2019s\",\n          \"Burger King\",\n          \"Pizza Hut\"\n        ],\n        \"semantic_type\": \"\",\n        \"description\": \"\"\n      }\n    },\n    {\n      \"column\": \"Item\",\n      \"properties\": {\n        \"dtype\": \"string\",\n        \"num_unique_values\": 1072,\n        \"samples\": [\n          \"Mtn Dew\\u00ae Baja Blast Zero Sugar (30 fl oz)\",\n          \"Diet Pepsi\\u00ae Wild Cherry Pepsi\\u00ae (12 fl oz)\",\n          \"Hand Tossed Slices Ultimate Cheese Lover\\u2019s\\u00ae Small\"\n        ],\n        \"semantic_type\": \"\",\n        \"description\": \"\"\n      }\n    },\n    {\n      \"column\": \"Calories\",\n      \"properties\": {\n        \"dtype\": \"category\",\n        \"num_unique_values\": 105,\n        \"samples\": [\n          \"60.00\",\n          \"1160.00\",\n          \"880.00\"\n        ],\n        \"semantic_type\": \"\",\n        \"description\": \"\"\n      }\n    },\n    {\n      \"column\": \"Calories from\\nFat\",\n      \"properties\": {\n        \"dtype\": \"category\",\n        \"num_unique_values\": 64,\n        \"samples\": [\n          \"750.00\",\n          \"490.00\",\n          \"80.00\"\n        ],\n        \"semantic_type\": \"\",\n        \"description\": \"\"\n      }\n    },\n    {\n      \"column\": \"Total Fat\\n(g)\",\n      \"properties\": {\n        \"dtype\": \"category\",\n        \"num_unique_values\": 73,\n        \"samples\": [\n          \"26.00\",\n          \"45.00\",\n          \"25.00\"\n        ],\n        \"semantic_type\": \"\",\n        \"description\": \"\"\n      }\n    },\n    {\n      \"column\": \"Saturated Fat\\n(g)\",\n      \"properties\": {\n        \"dtype\": \"category\",\n        \"num_unique_values\": 35,\n        \"samples\": [\n          \"5.5 g\",\n          \"4.00\",\n          \"13.00\"\n        ],\n        \"semantic_type\": \"\",\n        \"description\": \"\"\n      }\n    },\n    {\n      \"column\": \"Trans Fat\\n(g)\",\n      \"properties\": {\n        \"dtype\": \"category\",\n        \"num_unique_values\": 11,\n        \"samples\": [\n          \"0.00\",\n          \"0.50\",\n          \"3.50\"\n        ],\n        \"semantic_type\": \"\",\n        \"description\": \"\"\n      }\n    },\n    {\n      \"column\": \"Cholesterol\\n(mg)\",\n      \"properties\": {\n        \"dtype\": \"category\",\n        \"num_unique_values\": 65,\n        \"samples\": [\n          \"205.00\",\n          \"<5\",\n          \"25.00\"\n        ],\n        \"semantic_type\": \"\",\n        \"description\": \"\"\n      }\n    },\n    {\n      \"column\": \"Sodium \\n(mg)\",\n      \"properties\": {\n        \"dtype\": \"category\",\n        \"num_unique_values\": 214,\n        \"samples\": [\n          \"2070.00\",\n          \"32.00\",\n          \"1390.00\"\n        ],\n        \"semantic_type\": \"\",\n        \"description\": \"\"\n      }\n    },\n    {\n      \"column\": \"Carbs\\n(g)\",\n      \"properties\": {\n        \"dtype\": \"category\",\n        \"num_unique_values\": 131,\n        \"samples\": [\n          \"119.00\",\n          \"46.00\",\n          \"28.00\"\n        ],\n        \"semantic_type\": \"\",\n        \"description\": \"\"\n      }\n    },\n    {\n      \"column\": \"Fiber\\n(g)\",\n      \"properties\": {\n        \"dtype\": \"category\",\n        \"num_unique_values\": 17,\n        \"samples\": [\n          \"2.00\",\n          \"3.00\",\n          \"6.00\"\n        ],\n        \"semantic_type\": \"\",\n        \"description\": \"\"\n      }\n    },\n    {\n      \"column\": \"Sugars\\n(g)\",\n      \"properties\": {\n        \"dtype\": \"category\",\n        \"num_unique_values\": 122,\n        \"samples\": [\n          \"14.00\",\n          \"72.00\",\n          \"22.00\"\n        ],\n        \"semantic_type\": \"\",\n        \"description\": \"\"\n      }\n    },\n    {\n      \"column\": \"Protein\\n(g)\",\n      \"properties\": {\n        \"dtype\": \"category\",\n        \"num_unique_values\": 56,\n        \"samples\": [\n          \"12.00\",\n          \"48.00\",\n          \"17.00\"\n        ],\n        \"semantic_type\": \"\",\n        \"description\": \"\"\n      }\n    },\n    {\n      \"column\": \"Weight Watchers\\nPnts\",\n      \"properties\": {\n        \"dtype\": \"category\",\n        \"num_unique_values\": 524,\n        \"samples\": [\n          \"918.00\",\n          \"82.50\",\n          \"534.00\"\n        ],\n        \"semantic_type\": \"\",\n        \"description\": \"\"\n      }\n    }\n  ]\n}"
            }
          },
          "metadata": {},
          "execution_count": 3
        }
      ]
    },
    {
      "cell_type": "code",
      "source": [
        "df.columns"
      ],
      "metadata": {
        "colab": {
          "base_uri": "https://localhost:8080/"
        },
        "id": "nPVD1K9CvpGW",
        "outputId": "36eefaf5-0476-4f91-d805-cb9f337ca66d"
      },
      "execution_count": null,
      "outputs": [
        {
          "output_type": "execute_result",
          "data": {
            "text/plain": [
              "Index(['Company', 'Item', 'Calories', 'Calories from\\nFat', 'Total Fat\\n(g)',\n",
              "       'Saturated Fat\\n(g)', 'Trans Fat\\n(g)', 'Cholesterol\\n(mg)',\n",
              "       'Sodium \\n(mg)', 'Carbs\\n(g)', 'Fiber\\n(g)', 'Sugars\\n(g)',\n",
              "       'Protein\\n(g)', 'Weight Watchers\\nPnts'],\n",
              "      dtype='object')"
            ]
          },
          "metadata": {},
          "execution_count": 4
        }
      ]
    },
    {
      "cell_type": "code",
      "source": [
        "df.shape"
      ],
      "metadata": {
        "colab": {
          "base_uri": "https://localhost:8080/"
        },
        "id": "JIr11SULwKZN",
        "outputId": "54f15d20-958e-4c09-9e8b-85875ce6a650"
      },
      "execution_count": null,
      "outputs": [
        {
          "output_type": "execute_result",
          "data": {
            "text/plain": [
              "(1148, 14)"
            ]
          },
          "metadata": {},
          "execution_count": 5
        }
      ]
    },
    {
      "cell_type": "markdown",
      "source": [
        "**Displaying Datatypes of Each column in Dataset**\n",
        "\n"
      ],
      "metadata": {
        "id": "a6a3ShXK1HJb"
      }
    },
    {
      "cell_type": "code",
      "source": [
        "column_data_types = df.dtypes\n",
        "print(\"Data types of columns:\")\n",
        "print(column_data_types)"
      ],
      "metadata": {
        "colab": {
          "base_uri": "https://localhost:8080/"
        },
        "id": "kh2Tv69iSCOY",
        "outputId": "5e6ead93-61a4-4257-d237-df36e8750d3f"
      },
      "execution_count": null,
      "outputs": [
        {
          "output_type": "stream",
          "name": "stdout",
          "text": [
            "Data types of columns:\n",
            "Company                  object\n",
            "Item                     object\n",
            "Calories                 object\n",
            "Calories from\\nFat       object\n",
            "Total Fat\\n(g)           object\n",
            "Saturated Fat\\n(g)       object\n",
            "Trans Fat\\n(g)           object\n",
            "Cholesterol\\n(mg)        object\n",
            "Sodium \\n(mg)            object\n",
            "Carbs\\n(g)               object\n",
            "Fiber\\n(g)               object\n",
            "Sugars\\n(g)              object\n",
            "Protein\\n(g)             object\n",
            "Weight Watchers\\nPnts    object\n",
            "dtype: object\n"
          ]
        }
      ]
    },
    {
      "cell_type": "code",
      "source": [
        "missing_values_per_column = df.isna().sum()\n",
        "print(\"Number of missing values per column:\")\n",
        "print(missing_values_per_column)\n"
      ],
      "metadata": {
        "colab": {
          "base_uri": "https://localhost:8080/"
        },
        "id": "YwJP01pDyOr_",
        "outputId": "354eadbc-ed2a-47bb-c707-2313339fa423"
      },
      "execution_count": null,
      "outputs": [
        {
          "output_type": "stream",
          "name": "stdout",
          "text": [
            "Number of missing values per column:\n",
            "Company                    0\n",
            "Item                       0\n",
            "Calories                   1\n",
            "Calories from\\nFat       506\n",
            "Total Fat\\n(g)            57\n",
            "Saturated Fat\\n(g)        57\n",
            "Trans Fat\\n(g)            57\n",
            "Cholesterol\\n(mg)          1\n",
            "Sodium \\n(mg)              1\n",
            "Carbs\\n(g)                57\n",
            "Fiber\\n(g)                57\n",
            "Sugars\\n(g)                1\n",
            "Protein\\n(g)              57\n",
            "Weight Watchers\\nPnts    261\n",
            "dtype: int64\n"
          ]
        }
      ]
    },
    {
      "cell_type": "markdown",
      "source": [
        "**Simple Imputer**\n",
        "\n"
      ],
      "metadata": {
        "id": "NN36v5Wq1R0K"
      }
    },
    {
      "cell_type": "code",
      "source": [
        "from sklearn.impute import SimpleImputer\n",
        "\n",
        "# Instantiate SimpleImputer for numerical columns with strategy='median'\n",
        "num_imputer = SimpleImputer(strategy='most_frequent')\n",
        "\n",
        "# List of numerical columns\n",
        "num_cols = ['Calories', 'Calories from\\nFat', 'Total Fat\\n(g)','Saturated Fat\\n(g)', 'Trans Fat\\n(g)','Cholesterol\\n(mg)','Sodium \\n(mg)','Carbs\\n(g)','Fiber\\n(g)',\n",
        "            'Sugars\\n(g)','Protein\\n(g)','Weight Watchers\\nPnts']\n",
        "\n",
        "# Apply the imputers to fill missing values\n",
        "df[num_cols] = num_imputer.fit_transform(df[num_cols])"
      ],
      "metadata": {
        "id": "AryILR2ksi4k"
      },
      "execution_count": null,
      "outputs": []
    },
    {
      "cell_type": "code",
      "source": [
        "missing_values_per_column = df.isna().sum()\n",
        "print(\"Number of missing values per column:\")\n",
        "print(missing_values_per_column)"
      ],
      "metadata": {
        "colab": {
          "base_uri": "https://localhost:8080/"
        },
        "id": "0Pj5GXBztLw8",
        "outputId": "7fd00621-8bf2-4c6d-fa71-512ded85613d"
      },
      "execution_count": null,
      "outputs": [
        {
          "output_type": "stream",
          "name": "stdout",
          "text": [
            "Number of missing values per column:\n",
            "Company                  0\n",
            "Item                     0\n",
            "Calories                 0\n",
            "Calories from\\nFat       0\n",
            "Total Fat\\n(g)           0\n",
            "Saturated Fat\\n(g)       0\n",
            "Trans Fat\\n(g)           0\n",
            "Cholesterol\\n(mg)        0\n",
            "Sodium \\n(mg)            0\n",
            "Carbs\\n(g)               0\n",
            "Fiber\\n(g)               0\n",
            "Sugars\\n(g)              0\n",
            "Protein\\n(g)             0\n",
            "Weight Watchers\\nPnts    0\n",
            "dtype: int64\n"
          ]
        }
      ]
    },
    {
      "cell_type": "code",
      "source": [
        "data = pd.read_csv('FastFoodNutritionMenuV2.csv')\n",
        "\n",
        "missing_values_per_column = data.isna().sum()\n",
        "print(\"Number of missing values per column:\")\n",
        "print(missing_values_per_column)\n"
      ],
      "metadata": {
        "colab": {
          "base_uri": "https://localhost:8080/"
        },
        "id": "KLFx2qJxudof",
        "outputId": "45622729-17d3-42b8-e956-911045fcd57b"
      },
      "execution_count": null,
      "outputs": [
        {
          "output_type": "stream",
          "name": "stdout",
          "text": [
            "Number of missing values per column:\n",
            "Company                    0\n",
            "Item                       0\n",
            "Calories                   1\n",
            "Calories from\\nFat       506\n",
            "Total Fat\\n(g)            57\n",
            "Saturated Fat\\n(g)        57\n",
            "Trans Fat\\n(g)            57\n",
            "Cholesterol\\n(mg)          1\n",
            "Sodium \\n(mg)              1\n",
            "Carbs\\n(g)                57\n",
            "Fiber\\n(g)                57\n",
            "Sugars\\n(g)                1\n",
            "Protein\\n(g)              57\n",
            "Weight Watchers\\nPnts    261\n",
            "dtype: int64\n"
          ]
        }
      ]
    },
    {
      "cell_type": "markdown",
      "source": [
        "**Most Frequent Value**\n"
      ],
      "metadata": {
        "id": "wxir6k651YUt"
      }
    },
    {
      "cell_type": "code",
      "source": [
        "num_columns = ['Calories', 'Calories from\\nFat', 'Total Fat\\n(g)','Saturated Fat\\n(g)', 'Trans Fat\\n(g)','Cholesterol\\n(mg)','Sodium \\n(mg)','Carbs\\n(g)','Fiber\\n(g)',\n",
        "            'Sugars\\n(g)','Protein\\n(g)','Weight Watchers\\nPnts']\n",
        "\n",
        "#Fill missing values with the most frequent value in numerical columns\n",
        "data[num_columns] = data[num_columns].apply(lambda x: x.fillna(x.value_counts().index[0]))\n",
        "\n",
        "# Display the cleaned dataset\n",
        "print(\"\\nCleaned Dataset - Most Frequent Value in Numerical Columns:\")\n",
        "print(data.head())\n"
      ],
      "metadata": {
        "colab": {
          "base_uri": "https://localhost:8080/"
        },
        "id": "KzsNCL1su4-O",
        "outputId": "25cd2f6e-d016-470f-b7ea-b5483be85b59"
      },
      "execution_count": null,
      "outputs": [
        {
          "output_type": "stream",
          "name": "stdout",
          "text": [
            "\n",
            "Cleaned Dataset - Most Frequent Value in Numerical Columns:\n",
            "      Company                           Item Calories Calories from\\nFat  \\\n",
            "0  McDonald’s                      Hamburger   250.00              80.00   \n",
            "1  McDonald’s                   Cheeseburger   300.00             110.00   \n",
            "2  McDonald’s            Double Cheeseburger   440.00             210.00   \n",
            "3  McDonald’s                       McDouble   390.00             170.00   \n",
            "4  McDonald’s   Quarter Pounder® with Cheese   510.00             230.00   \n",
            "\n",
            "  Total Fat\\n(g) Saturated Fat\\n(g) Trans Fat\\n(g) Cholesterol\\n(mg)  \\\n",
            "0           9.00               3.50           0.50             25.00   \n",
            "1          12.00               6.00           0.50             40.00   \n",
            "2          23.00              11.00           1.50             80.00   \n",
            "3          19.00               8.00           1.00             65.00   \n",
            "4          26.00              12.00           1.50             90.00   \n",
            "\n",
            "  Sodium \\n(mg) Carbs\\n(g) Fiber\\n(g) Sugars\\n(g) Protein\\n(g)  \\\n",
            "0        520.00      31.00       2.00        6.00        12.00   \n",
            "1        750.00      33.00       2.00        6.00        15.00   \n",
            "2       1150.00      34.00       2.00        7.00        25.00   \n",
            "3        920.00      33.00       2.00        7.00        22.00   \n",
            "4       1190.00      40.00       3.00        9.00        29.00   \n",
            "\n",
            "  Weight Watchers\\nPnts  \n",
            "0                247.50  \n",
            "1                297.00  \n",
            "2                433.00  \n",
            "3                383.00  \n",
            "4                502.00  \n"
          ]
        }
      ]
    },
    {
      "cell_type": "code",
      "source": [
        "missing_values_per_column = data.isna().sum()\n",
        "print(\"Number of missing values per column:\")\n",
        "print(missing_values_per_column)"
      ],
      "metadata": {
        "colab": {
          "base_uri": "https://localhost:8080/"
        },
        "id": "jIfvjz-NvLSD",
        "outputId": "942102f2-36d2-4fd1-ea67-083fd065f753"
      },
      "execution_count": null,
      "outputs": [
        {
          "output_type": "stream",
          "name": "stdout",
          "text": [
            "Number of missing values per column:\n",
            "Company                  0\n",
            "Item                     0\n",
            "Calories                 0\n",
            "Calories from\\nFat       0\n",
            "Total Fat\\n(g)           0\n",
            "Saturated Fat\\n(g)       0\n",
            "Trans Fat\\n(g)           0\n",
            "Cholesterol\\n(mg)        0\n",
            "Sodium \\n(mg)            0\n",
            "Carbs\\n(g)               0\n",
            "Fiber\\n(g)               0\n",
            "Sugars\\n(g)              0\n",
            "Protein\\n(g)             0\n",
            "Weight Watchers\\nPnts    0\n",
            "dtype: int64\n"
          ]
        }
      ]
    },
    {
      "cell_type": "code",
      "source": [
        "data = pd.read_csv('FastFoodNutritionMenuV2.csv')\n",
        "\n",
        "missing_values_per_column = data.isna().sum()\n",
        "print(\"Number of missing values per column:\")\n",
        "print(missing_values_per_column)"
      ],
      "metadata": {
        "colab": {
          "base_uri": "https://localhost:8080/"
        },
        "id": "i7cUCEZtvTwe",
        "outputId": "c81e113d-43ea-4388-bd7a-a81fcf603c60"
      },
      "execution_count": null,
      "outputs": [
        {
          "output_type": "stream",
          "name": "stdout",
          "text": [
            "Number of missing values per column:\n",
            "Company                    0\n",
            "Item                       0\n",
            "Calories                   1\n",
            "Calories from\\nFat       506\n",
            "Total Fat\\n(g)            57\n",
            "Saturated Fat\\n(g)        57\n",
            "Trans Fat\\n(g)            57\n",
            "Cholesterol\\n(mg)          1\n",
            "Sodium \\n(mg)              1\n",
            "Carbs\\n(g)                57\n",
            "Fiber\\n(g)                57\n",
            "Sugars\\n(g)                1\n",
            "Protein\\n(g)              57\n",
            "Weight Watchers\\nPnts    261\n",
            "dtype: int64\n"
          ]
        }
      ]
    },
    {
      "cell_type": "markdown",
      "source": [
        "**Data Imputtation **"
      ],
      "metadata": {
        "id": "_DbD539P1iUQ"
      }
    },
    {
      "cell_type": "code",
      "source": [
        "# List of numerical columns\n",
        "columns_with_missing_values = data.columns[data.isnull().any()].tolist()\n",
        "\n",
        "# Impute missing values with the mean of the respective columns\n",
        "for column in columns_with_missing_values:\n",
        "    if data[column].dtype != 'object':  # Check if the column is numeric\n",
        "        data[column].fillna(data[column].mean(), inplace=True)\n",
        "    else:\n",
        "        data[column].fillna(data[column].mode()[0], inplace=True)  # For non-numeric columns, use mode\n",
        "\n",
        "# Display the modified dataset\n",
        "print(data)\n",
        "\n"
      ],
      "metadata": {
        "colab": {
          "base_uri": "https://localhost:8080/"
        },
        "id": "rxKn9GTvvc-a",
        "outputId": "b0e8fda6-5295-406c-bb80-c27852863e3f"
      },
      "execution_count": null,
      "outputs": [
        {
          "output_type": "stream",
          "name": "stdout",
          "text": [
            "         Company                                               Item Calories  \\\n",
            "0     McDonald’s                                          Hamburger   250.00   \n",
            "1     McDonald’s                                       Cheeseburger   300.00   \n",
            "2     McDonald’s                                Double Cheeseburger   440.00   \n",
            "3     McDonald’s                                           McDouble   390.00   \n",
            "4     McDonald’s                       Quarter Pounder® with Cheese   510.00   \n",
            "...          ...                                                ...      ...   \n",
            "1143   Pizza Hut  Hand Tossed Slices Ultimate Cheese Lover’s® Me...   230.00   \n",
            "1144   Pizza Hut  Hand Tossed Slices Ultimate Cheese Lover’s® Large   310.00   \n",
            "1145   Pizza Hut           Hand Tossed Slices Veggie Lover’s® Small   120.00   \n",
            "1146   Pizza Hut          Hand Tossed Slices Veggie Lover’s® Medium   200.00   \n",
            "1147   Pizza Hut           Hand Tossed Slices Veggie Lover’s® Large   260.00   \n",
            "\n",
            "     Calories from\\nFat Total Fat\\n(g) Saturated Fat\\n(g) Trans Fat\\n(g)  \\\n",
            "0                 80.00           9.00               3.50           0.50   \n",
            "1                110.00          12.00               6.00           0.50   \n",
            "2                210.00          23.00              11.00           1.50   \n",
            "3                170.00          19.00               8.00           1.00   \n",
            "4                230.00          26.00              12.00           1.50   \n",
            "...                 ...            ...                ...            ...   \n",
            "1143                  0          10.00               4.50           0.00   \n",
            "1144                  0          13.00               6.00           0.00   \n",
            "1145                  0           4.00               1.50           0.00   \n",
            "1146                  0           6.00               2.50           0.00   \n",
            "1147                  0           9.00               4.00           0.00   \n",
            "\n",
            "     Cholesterol\\n(mg) Sodium \\n(mg) Carbs\\n(g) Fiber\\n(g) Sugars\\n(g)  \\\n",
            "0                25.00        520.00      31.00       2.00        6.00   \n",
            "1                40.00        750.00      33.00       2.00        6.00   \n",
            "2                80.00       1150.00      34.00       2.00        7.00   \n",
            "3                65.00        920.00      33.00       2.00        7.00   \n",
            "4                90.00       1190.00      40.00       3.00        9.00   \n",
            "...                ...           ...        ...        ...         ...   \n",
            "1143             25.00        390.00      25.00       2.00        1.00   \n",
            "1144             35.00        540.00      33.00       2.00        1.00   \n",
            "1145             10.00        230.00      17.00       1.00        1.00   \n",
            "1146             15.00        370.00      27.00       2.00        2.00   \n",
            "1147             20.00        510.00      36.00       3.00        3.00   \n",
            "\n",
            "     Protein\\n(g) Weight Watchers\\nPnts  \n",
            "0           12.00                247.50  \n",
            "1           15.00                297.00  \n",
            "2           25.00                433.00  \n",
            "3           22.00                383.00  \n",
            "4           29.00                502.00  \n",
            "...           ...                   ...  \n",
            "1143        11.00                     0  \n",
            "1144        15.00                     0  \n",
            "1145         5.00                     0  \n",
            "1146         8.00                     0  \n",
            "1147        11.00                     0  \n",
            "\n",
            "[1148 rows x 14 columns]\n"
          ]
        }
      ]
    },
    {
      "cell_type": "code",
      "source": [
        "missing_values_per_column = data.isna().sum()\n",
        "print(\"Number of missing values per column:\")\n",
        "print(missing_values_per_column)"
      ],
      "metadata": {
        "colab": {
          "base_uri": "https://localhost:8080/"
        },
        "id": "9G6iFUFZy1WG",
        "outputId": "bcaa834d-3407-4216-b89a-e69eca508944"
      },
      "execution_count": null,
      "outputs": [
        {
          "output_type": "stream",
          "name": "stdout",
          "text": [
            "Number of missing values per column:\n",
            "Company                  0\n",
            "Item                     0\n",
            "Calories                 0\n",
            "Calories from\\nFat       0\n",
            "Total Fat\\n(g)           0\n",
            "Saturated Fat\\n(g)       0\n",
            "Trans Fat\\n(g)           0\n",
            "Cholesterol\\n(mg)        0\n",
            "Sodium \\n(mg)            0\n",
            "Carbs\\n(g)               0\n",
            "Fiber\\n(g)               0\n",
            "Sugars\\n(g)              0\n",
            "Protein\\n(g)             0\n",
            "Weight Watchers\\nPnts    0\n",
            "dtype: int64\n"
          ]
        }
      ]
    },
    {
      "cell_type": "code",
      "source": [
        "data = pd.read_csv('FastFoodNutritionMenuV2.csv')\n",
        "\n",
        "missing_values_per_column = data.isna().sum()\n",
        "print(\"Number of missing values per column:\")\n",
        "print(missing_values_per_column)"
      ],
      "metadata": {
        "colab": {
          "base_uri": "https://localhost:8080/"
        },
        "id": "xXB_BLbBzBN3",
        "outputId": "798a04c3-7083-4aff-c4d4-f01222f22cfc"
      },
      "execution_count": null,
      "outputs": [
        {
          "output_type": "stream",
          "name": "stdout",
          "text": [
            "Number of missing values per column:\n",
            "Company                    0\n",
            "Item                       0\n",
            "Calories                   1\n",
            "Calories from\\nFat       506\n",
            "Total Fat\\n(g)            57\n",
            "Saturated Fat\\n(g)        57\n",
            "Trans Fat\\n(g)            57\n",
            "Cholesterol\\n(mg)          1\n",
            "Sodium \\n(mg)              1\n",
            "Carbs\\n(g)                57\n",
            "Fiber\\n(g)                57\n",
            "Sugars\\n(g)                1\n",
            "Protein\\n(g)              57\n",
            "Weight Watchers\\nPnts    261\n",
            "dtype: int64\n"
          ]
        }
      ]
    },
    {
      "cell_type": "markdown",
      "source": [
        "**Fixed Value**\n"
      ],
      "metadata": {
        "id": "YCuhbRMC115h"
      }
    },
    {
      "cell_type": "code",
      "source": [
        "# List of numerical columns\n",
        "num_columns = ['Calories', 'Calories from\\nFat', 'Total Fat\\n(g)','Saturated Fat\\n(g)', 'Trans Fat\\n(g)','Cholesterol\\n(mg)','Sodium \\n(mg)','Carbs\\n(g)','Fiber\\n(g)',\n",
        "            'Sugars\\n(g)','Protein\\n(g)','Weight Watchers\\nPnts']\n",
        "\n",
        "# Fill missing values with zeros\n",
        "data[num_columns]= data[num_columns].fillna(0)\n",
        "\n",
        "# Display the cleaned dataset\n",
        "print(\"\\nCleaned Dataset - Fixed Value:\")\n",
        "print(data.head())"
      ],
      "metadata": {
        "colab": {
          "base_uri": "https://localhost:8080/"
        },
        "id": "vl8zSzF6xBBi",
        "outputId": "17677a43-0b3d-48a5-81a5-f21be18339c1"
      },
      "execution_count": null,
      "outputs": [
        {
          "output_type": "stream",
          "name": "stdout",
          "text": [
            "\n",
            "Cleaned Dataset - Fixed Value:\n",
            "      Company                           Item Calories Calories from\\nFat  \\\n",
            "0  McDonald’s                      Hamburger   250.00              80.00   \n",
            "1  McDonald’s                   Cheeseburger   300.00             110.00   \n",
            "2  McDonald’s            Double Cheeseburger   440.00             210.00   \n",
            "3  McDonald’s                       McDouble   390.00             170.00   \n",
            "4  McDonald’s   Quarter Pounder® with Cheese   510.00             230.00   \n",
            "\n",
            "  Total Fat\\n(g) Saturated Fat\\n(g) Trans Fat\\n(g) Cholesterol\\n(mg)  \\\n",
            "0           9.00               3.50           0.50             25.00   \n",
            "1          12.00               6.00           0.50             40.00   \n",
            "2          23.00              11.00           1.50             80.00   \n",
            "3          19.00               8.00           1.00             65.00   \n",
            "4          26.00              12.00           1.50             90.00   \n",
            "\n",
            "  Sodium \\n(mg) Carbs\\n(g) Fiber\\n(g) Sugars\\n(g) Protein\\n(g)  \\\n",
            "0        520.00      31.00       2.00        6.00        12.00   \n",
            "1        750.00      33.00       2.00        6.00        15.00   \n",
            "2       1150.00      34.00       2.00        7.00        25.00   \n",
            "3        920.00      33.00       2.00        7.00        22.00   \n",
            "4       1190.00      40.00       3.00        9.00        29.00   \n",
            "\n",
            "  Weight Watchers\\nPnts  \n",
            "0                247.50  \n",
            "1                297.00  \n",
            "2                433.00  \n",
            "3                383.00  \n",
            "4                502.00  \n"
          ]
        }
      ]
    },
    {
      "cell_type": "code",
      "source": [
        "missing_values_per_column = data.isna().sum()\n",
        "print(\"Number of missing values per column:\")\n",
        "print(missing_values_per_column)\n"
      ],
      "metadata": {
        "colab": {
          "base_uri": "https://localhost:8080/"
        },
        "id": "hXszUU85xVL7",
        "outputId": "6b6b111c-d443-4b70-b67b-645f3771c99d"
      },
      "execution_count": null,
      "outputs": [
        {
          "output_type": "stream",
          "name": "stdout",
          "text": [
            "Number of missing values per column:\n",
            "Company                  0\n",
            "Item                     0\n",
            "Calories                 0\n",
            "Calories from\\nFat       0\n",
            "Total Fat\\n(g)           0\n",
            "Saturated Fat\\n(g)       0\n",
            "Trans Fat\\n(g)           0\n",
            "Cholesterol\\n(mg)        0\n",
            "Sodium \\n(mg)            0\n",
            "Carbs\\n(g)               0\n",
            "Fiber\\n(g)               0\n",
            "Sugars\\n(g)              0\n",
            "Protein\\n(g)             0\n",
            "Weight Watchers\\nPnts    0\n",
            "dtype: int64\n"
          ]
        }
      ]
    }
  ]
}