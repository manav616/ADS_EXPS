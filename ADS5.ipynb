{
  "nbformat": 4,
  "nbformat_minor": 0,
  "metadata": {
    "colab": {
      "provenance": [],
      "authorship_tag": "ABX9TyM5ySILXEeAYQnzqx2av6Ac",
      "include_colab_link": true
    },
    "kernelspec": {
      "name": "python3",
      "display_name": "Python 3"
    },
    "language_info": {
      "name": "python"
    }
  },
  "cells": [
    {
      "cell_type": "markdown",
      "metadata": {
        "id": "view-in-github",
        "colab_type": "text"
      },
      "source": [
        "<a href=\"https://colab.research.google.com/github/manav616/ADS_EXPS/blob/main/ADS5.ipynb\" target=\"_parent\"><img src=\"https://colab.research.google.com/assets/colab-badge.svg\" alt=\"Open In Colab\"/></a>"
      ]
    },
    {
      "cell_type": "markdown",
      "source": [
        "**Importing Libraries**"
      ],
      "metadata": {
        "id": "mlEjotaXTggJ"
      }
    },
    {
      "cell_type": "code",
      "execution_count": null,
      "metadata": {
        "id": "Ykyvi0hFIa3u"
      },
      "outputs": [],
      "source": [
        "import numpy as np\n",
        "import pandas as pd\n",
        "from sklearn.model_selection import train_test_split\n",
        "from sklearn.ensemble import RandomForestClassifier\n",
        "from sklearn.metrics import classification_report\n",
        "from imblearn.over_sampling import SMOTE, BorderlineSMOTE\n",
        "from imblearn.combine import SMOTEENN\n"
      ]
    },
    {
      "cell_type": "code",
      "source": [
        "credit_card_data = \tpd.read_csv(\"creditcard.csv\")"
      ],
      "metadata": {
        "id": "PCimFU0yLNUp"
      },
      "execution_count": null,
      "outputs": []
    },
    {
      "cell_type": "code",
      "source": [
        "X = credit_card_data.drop('Class', axis=1)\n",
        "y = credit_card_data['Class']\n"
      ],
      "metadata": {
        "id": "lFZoIi8JMecN"
      },
      "execution_count": null,
      "outputs": []
    },
    {
      "cell_type": "markdown",
      "source": [
        "**Drop rows with missing target values **"
      ],
      "metadata": {
        "id": "OPUJtbj-TwiV"
      }
    },
    {
      "cell_type": "code",
      "source": [
        "missing_indices = y.isnull()\n",
        "X = X[-missing_indices]\n",
        "y = y.dropna()"
      ],
      "metadata": {
        "id": "nF8HES5DMgIT"
      },
      "execution_count": null,
      "outputs": []
    },
    {
      "cell_type": "markdown",
      "source": [
        "**imbalanced class distribution after handling missing values **"
      ],
      "metadata": {
        "id": "jPPOcQQJT0Ko"
      }
    },
    {
      "cell_type": "code",
      "source": [
        "print(\"\\nImbalanced Class Distribution after handling missing values:\")\n",
        "print(y.value_counts())"
      ],
      "metadata": {
        "colab": {
          "base_uri": "https://localhost:8080/"
        },
        "id": "nLNrZxiVMqSw",
        "outputId": "51e23848-c01c-4e13-e4b6-9f0f092e750e"
      },
      "execution_count": null,
      "outputs": [
        {
          "output_type": "stream",
          "name": "stdout",
          "text": [
            "\n",
            "Imbalanced Class Distribution after handling missing values:\n",
            "0.0    1983\n",
            "1.0       2\n",
            "Name: Class, dtype: int64\n"
          ]
        }
      ]
    },
    {
      "cell_type": "code",
      "source": [
        "X_train, X_test, y_train, y_test = train_test_split(X, y, test_size=0.2, random_state=42)\n",
        "\n",
        "# Dictionary to store results for different oversampling techniques\n",
        "results = {}\n"
      ],
      "metadata": {
        "id": "GhtoaO6CM2xM"
      },
      "execution_count": null,
      "outputs": []
    },
    {
      "cell_type": "markdown",
      "source": [
        "**Smote**"
      ],
      "metadata": {
        "id": "CWB_VU3KT874"
      }
    },
    {
      "cell_type": "code",
      "source": [
        "smote = SMOTE(random_state=42, k_neighbors=1)  # Adjust k_neighbors as needed\n",
        "\n",
        "# Perform SMOTE resampling\n",
        "X_resampled_smote, y_resampled_smote = smote.fit_resample(X_train, y_train)\n",
        "\n",
        "# Store the resampled data in your results dictionary\n",
        "results['SMOTE'] = (X_resampled_smote, y_resampled_smote)\n"
      ],
      "metadata": {
        "id": "USJoM0v1PAS3"
      },
      "execution_count": null,
      "outputs": []
    },
    {
      "cell_type": "markdown",
      "source": [
        "**Smote borderline**"
      ],
      "metadata": {
        "id": "OIqdf0znUBIk"
      }
    },
    {
      "cell_type": "code",
      "source": [
        "borderline_smote =\tBorderlineSMOTE(random_state=42)\n",
        "X_resampled_borderline, y_resampled_borderline\t = borderline_smote.fit_resample(X_train, y_train)\n",
        "results['Borderline-SMOTE'] = \t(X_resampled_borderline, y_resampled_borderline)\n",
        "\n"
      ],
      "metadata": {
        "id": "-9v0VL3aSHM9"
      },
      "execution_count": null,
      "outputs": []
    },
    {
      "cell_type": "markdown",
      "source": [
        "**Smote ENN**"
      ],
      "metadata": {
        "id": "L-8h5T8gUHip"
      }
    },
    {
      "cell_type": "code",
      "source": [
        "smote_enn = SMOTEENN(random_state=42, smote=SMOTE(k_neighbors=1))\n",
        "X_resampled_smoteenn, y_resampled_smoteenn  = \tsmote_enn.fit_resample(X_train, y_train)\n",
        "results['SMOTE-ENN'] = (X_resampled_smoteenn, y_resampled_smoteenn)\n"
      ],
      "metadata": {
        "id": "Gvm4ihzJQzE4"
      },
      "execution_count": null,
      "outputs": []
    },
    {
      "cell_type": "code",
      "source": [
        "for technique, (X_resampled, y_resampled) in results.items():\n",
        "  print(f\"\\nResults for {technique}:\")\n",
        "\n",
        "  clf\t = RandomForestClassifier(random_state=42)\n",
        "  clf.fit(X_resampled, y_resampled)\n",
        "\n",
        "  y_pred = clf.predict(X_test)\n",
        "  print(\"Classification Report on Test Set:\")\n",
        "  print(classification_report(y_test, y_pred))\n",
        "\n",
        "\n",
        "\n"
      ],
      "metadata": {
        "colab": {
          "base_uri": "https://localhost:8080/"
        },
        "id": "7ZRLdYfZR-g6",
        "outputId": "c698b622-8683-4cbc-b10f-4097957c7c0a"
      },
      "execution_count": null,
      "outputs": [
        {
          "output_type": "stream",
          "name": "stdout",
          "text": [
            "\n",
            "Results for SMOTE:\n",
            "Classification Report on Test Set:\n",
            "              precision    recall  f1-score   support\n",
            "\n",
            "         0.0       1.00      1.00      1.00       397\n",
            "\n",
            "    accuracy                           1.00       397\n",
            "   macro avg       1.00      1.00      1.00       397\n",
            "weighted avg       1.00      1.00      1.00       397\n",
            "\n",
            "\n",
            "Results for SMOTE-ENN:\n",
            "Classification Report on Test Set:\n",
            "              precision    recall  f1-score   support\n",
            "\n",
            "         0.0       1.00      1.00      1.00       397\n",
            "\n",
            "    accuracy                           1.00       397\n",
            "   macro avg       1.00      1.00      1.00       397\n",
            "weighted avg       1.00      1.00      1.00       397\n",
            "\n",
            "\n",
            "Results for Borderline-SMOTE:\n",
            "Classification Report on Test Set:\n",
            "              precision    recall  f1-score   support\n",
            "\n",
            "         0.0       1.00      1.00      1.00       397\n",
            "\n",
            "    accuracy                           1.00       397\n",
            "   macro avg       1.00      1.00      1.00       397\n",
            "weighted avg       1.00      1.00      1.00       397\n",
            "\n"
          ]
        }
      ]
    }
  ]
}